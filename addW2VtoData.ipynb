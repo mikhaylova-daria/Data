{
 "cells": [
  {
   "cell_type": "code",
   "execution_count": 25,
   "metadata": {
    "collapsed": true
   },
   "outputs": [],
   "source": [
    "from scipy import sparse\n",
    "import csv\n",
    "import sys\n",
    "import os\n",
    "import pandas\n",
    "import numpy as np\n",
    "import multiprocessing\n",
    "import random\n",
    "from sklearn.externals import joblib"
   ]
  },
  {
   "cell_type": "code",
   "execution_count": 26,
   "metadata": {
    "collapsed": false
   },
   "outputs": [],
   "source": [
    "X = []\n",
    "#Y = []\n",
    "#Words=[]\n",
    "Lines=[]\n",
    "f1=open(unicode('datasetDictTab'))\n",
    "for i, line in enumerate(f1):\n",
    "    if (i == 0):\n",
    "        continue\n",
    "    Lines.append(line)\n",
    "#random.shuffle(Lines)\n",
    "for line in Lines:\n",
    "    l = line.strip().split('\\t')\n",
    "    pos = l[22]\n",
    "    pos = int(pos)\n",
    "    l[24] = str(pos)\n",
    "    X.append(l[4:])\n",
    "    w = line.strip().split('\\t')[1]\n",
    "    lab = line.strip().split('\\t')[3]\n",
    "\n",
    "    if (lab == 'Person'):\n",
    "        try:\n",
    "            stop_w_n.index(w)\n",
    "            lab = 'No'\n",
    "        except Exception:\n",
    "            k =0\n",
    "#    Y.append(lab)\n",
    "#     else:\n",
    "#         Y.append('No')\n",
    "#    Words.append(w)"
   ]
  },
  {
   "cell_type": "code",
   "execution_count": 37,
   "metadata": {
    "collapsed": true
   },
   "outputs": [],
   "source": [
    "X_test = []\n",
    "Y_test = []\n",
    "f1=open(unicode(\"/home/daria/Diploma/datasetCoNLLTab\"))\n",
    "for i, line in enumerate(f1):\n",
    "    if (i == 0):\n",
    "        continue\n",
    "    l = line.strip().split('\\t')\n",
    "    pos = l[22]\n",
    "    pos = int(pos)\n",
    "    l[22] = str(pos)\n",
    "    X_test.append(l[4:])\n",
    "    Y_test.append(line.strip().split('\\t')[3])"
   ]
  },
  {
   "cell_type": "code",
   "execution_count": 31,
   "metadata": {
    "collapsed": true
   },
   "outputs": [],
   "source": [
    "X_ = []\n",
    "#Y_ = []\n",
    "f1=open(unicode('./datasetPersonTabTest'))\n",
    "f2=open(unicode('./datasetNNPTabTest'))\n",
    "for i, line in enumerate(f1):\n",
    "    if (i == 0):\n",
    "        continue\n",
    "    l = line.strip().split('\\t')\n",
    "    pos = l[22]\n",
    "    pos = int(round(float(pos)))\n",
    "    l[22] = str(pos)\n",
    "    X_.append(l[4:])\n",
    "    #Y_.append('Person')\n",
    "for i, line in enumerate(f2):\n",
    "    if (i == 0):\n",
    "        continue\n",
    "    l = line.strip().split('\\t')\n",
    "    pos = l[22]\n",
    "    pos = int(round(float(pos)))\n",
    "    l[22] = str(pos)\n",
    "    X_.append(l[4:])\n",
    "   # Y_.append('No')"
   ]
  },
  {
   "cell_type": "code",
   "execution_count": 42,
   "metadata": {
    "collapsed": true
   },
   "outputs": [],
   "source": [
    "X_wg = []\n",
    "Y_wg = []\n",
    "f1=open(unicode(\"/home/daria/Diploma/DiplomaDataPerson/DiplomaDataPerson2/WikiGoldSet/dataset_WikiGold\"))\n",
    "for i, line in enumerate(f1):\n",
    "    if (i == 0):\n",
    "        continue\n",
    "    l = line.strip().split('\\t')\n",
    "    pos = l[22]\n",
    "    pos = int(pos)\n",
    "    l[22] = str(pos)\n",
    "    X_wg.append(l[4:])\n",
    "    Y_wg.append(line.strip().split('\\t')[3])"
   ]
  },
  {
   "cell_type": "code",
   "execution_count": 4,
   "metadata": {
    "collapsed": false
   },
   "outputs": [],
   "source": [
    "from gensim.models import word2vec\n",
    "model = word2vec.Word2Vec.load('w2v_model')"
   ]
  },
  {
   "cell_type": "code",
   "execution_count": 11,
   "metadata": {
    "collapsed": false
   },
   "outputs": [
    {
     "name": "stdout",
     "output_type": "stream",
     "text": [
      "1463\n"
     ]
    }
   ],
   "source": [
    "count=0\n",
    "indexes=[]\n",
    "for i, obj in enumerate(X_int_wg):\n",
    "    try:\n",
    "        X_int_wg[i].extend(model[X_wg[i][1].lower()])\n",
    "    except Exception:\n",
    "        count+=1\n",
    "        X_int_wg[i].extend([0]*27)\n",
    "print count"
   ]
  },
  {
   "cell_type": "code",
   "execution_count": 16,
   "metadata": {
    "collapsed": false
   },
   "outputs": [
    {
     "data": {
      "text/plain": [
       "['./DiplomaDataPerson_X_int_wg_w2v.joblib.pkl']"
      ]
     },
     "execution_count": 16,
     "metadata": {},
     "output_type": "execute_result"
    }
   ],
   "source": [
    "joblib.dump(X_int_wg, './DiplomaDataPerson_X_int_wg_w2v.joblib.pkl', compress=3)"
   ]
  },
  {
   "cell_type": "code",
   "execution_count": 41,
   "metadata": {
    "collapsed": false
   },
   "outputs": [],
   "source": [
    "#X_int = joblib.load('./DiplomaDataPerson_X_int.joblib.pkl')\n",
    "#X__int = joblib.load('./DiplomaDataPerson_X_int_test.joblib.pkl')\n",
    "#X_int_test = joblib.load('./DiplomaDataPerson_X_int_conll.joblib.pkl')\n",
    "# enc = joblib.load('./DiplomaDataPerson_enc.joblib.pkl')\n",
    "X__int = joblib.load('./DiplomaDataPerson_X_int_wg.joblib.pkl')\n",
    "# Y= joblib.load('./DiplomaDataPerson_Y.joblib.pkl')\n",
    "# Y_ = joblib.load('./DiplomaDataPerson_Y_test.joblib.pkl')\n",
    "# Y_test = joblib.load('./DiplomaDataPerson_Y_conll.joblib.pkl')\n",
    "# Y_wg = joblib.load('./DiplomaDataPerson_Y_wg.joblib.pkl')"
   ]
  },
  {
   "cell_type": "code",
   "execution_count": 43,
   "metadata": {
    "collapsed": false
   },
   "outputs": [
    {
     "name": "stdout",
     "output_type": "stream",
     "text": [
      "1463\n"
     ]
    }
   ],
   "source": [
    "count=0\n",
    "indexes=[]\n",
    "for i, obj in enumerate(X__int):\n",
    "    try:\n",
    "        X__int[i].extend(model[X_wg[i][1].lower()])\n",
    "    except Exception:\n",
    "        count+=1\n",
    "        X__int[i].extend([0]*27)\n",
    "print count"
   ]
  },
  {
   "cell_type": "code",
   "execution_count": 44,
   "metadata": {
    "collapsed": false
   },
   "outputs": [
    {
     "data": {
      "text/plain": [
       "[-0.0057720421,\n",
       " 0.020134052,\n",
       " -0.038049404,\n",
       " 0.026952071,\n",
       " 0.011241785,\n",
       " 0.012273651,\n",
       " -0.051133756,\n",
       " -0.035507783,\n",
       " 0.028843354,\n",
       " 0.048992507]"
      ]
     },
     "execution_count": 44,
     "metadata": {},
     "output_type": "execute_result"
    }
   ],
   "source": [
    "X__int[2][-10:]"
   ]
  },
  {
   "cell_type": "code",
   "execution_count": 45,
   "metadata": {
    "collapsed": false
   },
   "outputs": [],
   "source": [
    "f = open('./DiplomaDataPerson_X_int_wg_w2v', 'w')\n",
    "for i in range(len(X__int)):\n",
    "    for j in range(len(X__int[i])):\n",
    "        f.write(str(X__int[i][j])+'\\t')\n",
    "    f.write('\\n')\n",
    "f.close()"
   ]
  },
  {
   "cell_type": "code",
   "execution_count": null,
   "metadata": {
    "collapsed": false
   },
   "outputs": [],
   "source": [
    "joblib.dump(X__int, './DiplomaDataPerson_X_int_test_w2v.joblib.pkl', compress=3)"
   ]
  },
  {
   "cell_type": "code",
   "execution_count": null,
   "metadata": {
    "collapsed": true
   },
   "outputs": [],
   "source": [
    "print \"ura!\""
   ]
  },
  {
   "cell_type": "code",
   "execution_count": 51,
   "metadata": {
    "collapsed": false
   },
   "outputs": [
    {
     "ename": "IndexError",
     "evalue": "list index out of range",
     "output_type": "error",
     "traceback": [
      "\u001b[1;31m---------------------------------------------------------------------------\u001b[0m",
      "\u001b[1;31mIndexError\u001b[0m                                Traceback (most recent call last)",
      "\u001b[1;32m<ipython-input-51-6b492646ab68>\u001b[0m in \u001b[0;36m<module>\u001b[1;34m()\u001b[0m\n\u001b[0;32m      6\u001b[0m \u001b[1;32mfor\u001b[0m \u001b[0mi\u001b[0m\u001b[1;33m,\u001b[0m \u001b[0mline\u001b[0m \u001b[1;32min\u001b[0m \u001b[0menumerate\u001b[0m\u001b[1;33m(\u001b[0m\u001b[0mf\u001b[0m\u001b[1;33m)\u001b[0m\u001b[1;33m:\u001b[0m\u001b[1;33m\u001b[0m\u001b[0m\n\u001b[0;32m      7\u001b[0m     \u001b[0mpos\u001b[0m \u001b[1;33m=\u001b[0m \u001b[0mint\u001b[0m\u001b[1;33m(\u001b[0m\u001b[0mround\u001b[0m\u001b[1;33m(\u001b[0m\u001b[0mi\u001b[0m\u001b[1;33m*\u001b[0m\u001b[1;36m1.0\u001b[0m\u001b[1;33m/\u001b[0m\u001b[1;36m70000\u001b[0m\u001b[1;33m)\u001b[0m\u001b[1;33m)\u001b[0m\u001b[1;33m\u001b[0m\u001b[0m\n\u001b[1;32m----> 8\u001b[1;33m     \u001b[0mfiles\u001b[0m\u001b[1;33m[\u001b[0m\u001b[0mpos\u001b[0m\u001b[1;33m]\u001b[0m\u001b[1;33m.\u001b[0m\u001b[0mwrite\u001b[0m\u001b[1;33m(\u001b[0m\u001b[0mline\u001b[0m\u001b[1;33m)\u001b[0m\u001b[1;33m\u001b[0m\u001b[0m\n\u001b[0m\u001b[0;32m      9\u001b[0m     \u001b[1;32mif\u001b[0m \u001b[1;33m(\u001b[0m\u001b[0mpos\u001b[0m\u001b[1;33m>\u001b[0m\u001b[1;36m9\u001b[0m\u001b[1;33m)\u001b[0m\u001b[1;33m:\u001b[0m\u001b[1;33m\u001b[0m\u001b[0m\n\u001b[0;32m     10\u001b[0m         \u001b[1;32mprint\u001b[0m \u001b[1;34m\"&\"\u001b[0m\u001b[1;33m\u001b[0m\u001b[0m\n",
      "\u001b[1;31mIndexError\u001b[0m: list index out of range"
     ]
    }
   ],
   "source": [
    "f = open(\"/home/daria/Diploma/DiplomaDataPerson/DiplomaDataPerson2/Data/DiplomaDataPerson_X_int_test_w2v\")\n",
    "files = []\n",
    "for i in range(10):\n",
    "    files.append(open(\"/home/daria/Diploma/DiplomaDataPerson/DiplomaDataPerson2/Data/DiplomaDataPerson_X_int_test_w2v_\"+str(i), 'w'))\n",
    "                 \n",
    "for i, line in enumerate(f):\n",
    "    pos = int(round(i*1.0/70000))\n",
    "    files[pos].write(line)\n",
    "    if (pos>9):\n",
    "        print \"&\"\n",
    "    "
   ]
  },
  {
   "cell_type": "code",
   "execution_count": 11,
   "metadata": {
    "collapsed": false
   },
   "outputs": [],
   "source": [
    "sentences = word2vec.LineSentence(\"/home/daria/Diploma/DiplomaDataPerson/DiplomaDataPerson2/WikiGoldSet/art_line\")"
   ]
  },
  {
   "cell_type": "code",
   "execution_count": 12,
   "metadata": {
    "collapsed": false,
    "scrolled": false
   },
   "outputs": [
    {
     "data": {
      "text/plain": [
       "36607"
      ]
     },
     "execution_count": 12,
     "metadata": {},
     "output_type": "execute_result"
    }
   ],
   "source": [
    "model.train(sentences)"
   ]
  },
  {
   "cell_type": "code",
   "execution_count": 22,
   "metadata": {
    "collapsed": false
   },
   "outputs": [
    {
     "data": {
      "text/plain": [
       "array([-0.05720697,  0.06346451,  0.10766359, -0.33880791, -0.02144547,\n",
       "        0.22796947, -0.06616163, -0.02166012,  0.0756216 ,  0.2553857 ,\n",
       "       -0.08381806,  0.04085863,  0.05463206, -0.22140452, -0.23371772,\n",
       "       -0.01056518,  0.10262232,  0.15857458, -0.01977646, -0.14088343,\n",
       "        0.33472034, -0.07976252,  0.30148163,  0.04916565, -0.17979641,\n",
       "        0.17690316, -0.04314813, -0.19569317,  0.2246194 ,  0.12240022,\n",
       "        0.06705268,  0.25043893,  0.13449523, -0.09003525, -0.0611188 ,\n",
       "        0.02758515, -0.14994857, -0.04494843, -0.08315568, -0.10812595,\n",
       "        0.19587107, -0.15900441,  0.42527413, -0.35135266, -0.00583268,\n",
       "       -0.01201829,  0.23180994,  0.08224032, -0.1164832 , -0.08483681,\n",
       "       -0.09971149,  0.08681984, -0.00606505, -0.03475243, -0.04128864,\n",
       "       -0.18844207, -0.08340225, -0.1980859 , -0.12506072, -0.31236646,\n",
       "       -0.02034291,  0.10820277,  0.02726453, -0.10084724, -0.01440015,\n",
       "        0.37372649, -0.07102286, -0.02616054,  0.29278231, -0.09942418,\n",
       "       -0.07503267,  0.04449786,  0.10518432,  0.10604092,  0.04696164,\n",
       "       -0.4457458 , -0.00470119, -0.00124229,  0.15005499,  0.06814142,\n",
       "       -0.06801109,  0.10636163,  0.41666594, -0.07552527, -0.13046305,\n",
       "       -0.18650378, -0.07618719, -0.1109985 ,  0.08963808,  0.37442964,\n",
       "       -0.025621  ,  0.23348404, -0.25850722, -0.03147893, -0.04219468,\n",
       "       -0.03338576,  0.05282701,  0.01882358,  0.15673733, -0.07679264], dtype=float32)"
      ]
     },
     "execution_count": 22,
     "metadata": {},
     "output_type": "execute_result"
    }
   ],
   "source": [
    "model[' pvi ']"
   ]
  },
  {
   "cell_type": "code",
   "execution_count": null,
   "metadata": {
    "collapsed": true
   },
   "outputs": [],
   "source": []
  }
 ],
 "metadata": {
  "kernelspec": {
   "display_name": "Python 2",
   "language": "python",
   "name": "python2"
  },
  "language_info": {
   "codemirror_mode": {
    "name": "ipython",
    "version": 2
   },
   "file_extension": ".py",
   "mimetype": "text/x-python",
   "name": "python",
   "nbconvert_exporter": "python",
   "pygments_lexer": "ipython2",
   "version": "2.7.10"
  }
 },
 "nbformat": 4,
 "nbformat_minor": 0
}
