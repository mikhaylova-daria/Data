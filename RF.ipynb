{
 "cells": [
  {
   "cell_type": "code",
   "execution_count": 12,
   "metadata": {
    "collapsed": true
   },
   "outputs": [],
   "source": [
    "stop_w_n = [\"Queen\", \"Mayor\", \"Orange\",\"Princess\", \"Minister\", \"Lord\", \"Sir\", \"President\", \"Miss\", \"Child\", \"Empress\", \"Mrs.\", \n",
    "            \"Peace\",  \"Prince\", \"Knight\", \"Just\", \"Doctor\", \"Baron\", \"Professor\", 'Senior']\n",
    "names = [\"Tim\"]"
   ]
  },
  {
   "cell_type": "code",
   "execution_count": 13,
   "metadata": {
    "collapsed": true
   },
   "outputs": [],
   "source": [
    "from scipy import sparse\n",
    "import csv\n",
    "import sys\n",
    "import os\n",
    "import pandas\n",
    "import numpy as np\n",
    "import multiprocessing\n",
    "import random\n",
    "from sklearn.externals import joblib"
   ]
  },
  {
   "cell_type": "code",
   "execution_count": 14,
   "metadata": {
    "collapsed": false
   },
   "outputs": [],
   "source": [
    "X = []\n",
    "Y = []\n",
    "Words=[]\n",
    "Lines=[]\n",
    "f1=open(unicode('datasetDictTab'))\n",
    "for i, line in enumerate(f1):\n",
    "    if (i == 0):\n",
    "        continue\n",
    "    Lines.append(line)\n",
    "#random.shuffle(Lines)\n",
    "for line in Lines:\n",
    "    l = line.strip().split('\\t')\n",
    "    pos = l[22]\n",
    "    pos = int(pos)\n",
    "    l[24] = str(pos)\n",
    "    X.append(l[4:])\n",
    "    w = line.strip().split('\\t')[1]\n",
    "    lab = line.strip().split('\\t')[3]\n",
    "\n",
    "    if (lab == 'Person'):\n",
    "        try:\n",
    "            stop_w_n.index(w)\n",
    "            lab = 'No'\n",
    "        except Exception:\n",
    "            k =0\n",
    "    Y.append(lab)\n",
    "#     else:\n",
    "#         Y.append('No')\n",
    "    Words.append(w)"
   ]
  },
  {
   "cell_type": "code",
   "execution_count": 15,
   "metadata": {
    "collapsed": false
   },
   "outputs": [],
   "source": [
    "X_test = []\n",
    "Y_test = []\n",
    "f1=open(unicode(\"/home/daria/Diploma/datasetCoNLLTab\"))\n",
    "for i, line in enumerate(f1):\n",
    "    if (i == 0):\n",
    "        continue\n",
    "    l = line.strip().split('\\t')\n",
    "    pos = l[22]\n",
    "    pos = int(pos)\n",
    "    l[22] = str(pos)\n",
    "    X_test.append(l[4:])\n",
    "    Y_test.append(line.strip().split('\\t')[3])"
   ]
  },
  {
   "cell_type": "code",
   "execution_count": 16,
   "metadata": {
    "collapsed": true
   },
   "outputs": [],
   "source": [
    "X_wg = []\n",
    "Y_wg = []\n",
    "f1=open(unicode(\"/home/daria/Diploma/DiplomaDataPerson/DiplomaDataPerson2/WikiGoldSet/dataset_WikiGold\"))\n",
    "for i, line in enumerate(f1):\n",
    "    if (i == 0):\n",
    "        continue\n",
    "    l = line.strip().split('\\t')\n",
    "    pos = l[22]\n",
    "    pos = int(pos)\n",
    "    l[22] = str(pos)\n",
    "    X_wg.append(l[4:])\n",
    "    Y_wg.append(line.strip().split('\\t')[3])"
   ]
  },
  {
   "cell_type": "code",
   "execution_count": 22,
   "metadata": {
    "collapsed": false
   },
   "outputs": [],
   "source": [
    "X_ = []\n",
    "Y_ = []\n",
    "f1=open(unicode('./datasetPersonTabTest'))\n",
    "f2=open(unicode('./datasetNNPTabTest'))\n",
    "for i, line in enumerate(f1):\n",
    "    if (i == 0):\n",
    "        continue\n",
    "    l = line.strip().split('\\t')\n",
    "    pos = l[22]\n",
    "    pos = int(round(float(pos)))\n",
    "    l[22] = str(pos)\n",
    "    X_.append(l[4:])\n",
    "    Y_.append('Person')\n",
    "for i, line in enumerate(f2):\n",
    "    if (i == 0):\n",
    "        continue\n",
    "    l = line.strip().split('\\t')\n",
    "    pos = l[22]\n",
    "    pos = int(round(float(pos)))\n",
    "    l[22] = str(pos)\n",
    "    X_.append(l[4:])\n",
    "    Y_.append('No')"
   ]
  },
  {
   "cell_type": "code",
   "execution_count": 23,
   "metadata": {
    "collapsed": false
   },
   "outputs": [],
   "source": [
    "set_futures =[]\n",
    "for i in range(27):\n",
    "    set_futures.append(set())\n",
    "for x in X+X_test+X_+X_wg:\n",
    "    for i, x_i in enumerate(x):\n",
    "        set_futures[i].add(x_i)"
   ]
  },
  {
   "cell_type": "code",
   "execution_count": 24,
   "metadata": {
    "collapsed": true
   },
   "outputs": [],
   "source": [
    "feature_dict = []\n",
    "for i in range(27):\n",
    "    feature_dict.append(dict())\n",
    "    \n",
    "for i in range(27):\n",
    "    count = 0\n",
    "    for x in set_futures[i]:\n",
    "        feature_dict[i][x] = count\n",
    "        count+=1"
   ]
  },
  {
   "cell_type": "code",
   "execution_count": null,
   "metadata": {
    "collapsed": false
   },
   "outputs": [],
   "source": []
  },
  {
   "cell_type": "code",
   "execution_count": 27,
   "metadata": {
    "collapsed": false
   },
   "outputs": [
    {
     "data": {
      "text/plain": [
       "['./DiplomaDataPerson_feature_dict.joblib.pkl']"
      ]
     },
     "execution_count": 27,
     "metadata": {},
     "output_type": "execute_result"
    }
   ],
   "source": [
    "filename = './DiplomaDataPerson_feature_dict.joblib.pkl'\n",
    "joblib.dump(feature_dict, filename, compress=3)"
   ]
  },
  {
   "cell_type": "code",
   "execution_count": 28,
   "metadata": {
    "collapsed": false
   },
   "outputs": [
    {
     "data": {
      "text/plain": [
       "['./DiplomaDataPerson_set_futures.joblib.pkl']"
      ]
     },
     "execution_count": 28,
     "metadata": {},
     "output_type": "execute_result"
    }
   ],
   "source": [
    "filename = './DiplomaDataPerson_set_futures.joblib.pkl'\n",
    "joblib.dump(set_futures, filename, compress=3)"
   ]
  },
  {
   "cell_type": "code",
   "execution_count": 29,
   "metadata": {
    "collapsed": true
   },
   "outputs": [],
   "source": [
    "X_int=[]\n",
    "for x in X:\n",
    "    X_int.append([0]*len(x)) \n",
    "for i, x in enumerate(X):\n",
    "    for j, x_j in enumerate(x):\n",
    "        X_int[i][j]=feature_dict[j][x_j]"
   ]
  },
  {
   "cell_type": "code",
   "execution_count": 30,
   "metadata": {
    "collapsed": false
   },
   "outputs": [
    {
     "data": {
      "text/plain": [
       "['./DiplomaDataPerson_X_int.joblib.pkl']"
      ]
     },
     "execution_count": 30,
     "metadata": {},
     "output_type": "execute_result"
    }
   ],
   "source": [
    "filename = './DiplomaDataPerson_X_int.joblib.pkl'\n",
    "joblib.dump(X_int, filename, compress=3)"
   ]
  },
  {
   "cell_type": "code",
   "execution_count": 31,
   "metadata": {
    "collapsed": false
   },
   "outputs": [
    {
     "data": {
      "text/plain": [
       "['./DiplomaDataPerson_Y.joblib.pkl']"
      ]
     },
     "execution_count": 31,
     "metadata": {},
     "output_type": "execute_result"
    }
   ],
   "source": [
    "filename = './DiplomaDataPerson_Y.joblib.pkl'\n",
    "joblib.dump(Y, filename, compress=3)"
   ]
  },
  {
   "cell_type": "code",
   "execution_count": 32,
   "metadata": {
    "collapsed": true
   },
   "outputs": [],
   "source": [
    "X__int=[]\n",
    "for x in X_:\n",
    "    X__int.append([0]*len(x)) \n",
    "for i, x in enumerate(X_):\n",
    "    for j, x_j in enumerate(x):\n",
    "        X__int[i][j]=feature_dict[j][x_j]"
   ]
  },
  {
   "cell_type": "code",
   "execution_count": 33,
   "metadata": {
    "collapsed": false
   },
   "outputs": [
    {
     "data": {
      "text/plain": [
       "['./DiplomaDataPerson_X_int_test.joblib.pkl']"
      ]
     },
     "execution_count": 33,
     "metadata": {},
     "output_type": "execute_result"
    }
   ],
   "source": [
    "filename = './DiplomaDataPerson_X_int_test.joblib.pkl'\n",
    "joblib.dump(X__int, filename, compress=3)"
   ]
  },
  {
   "cell_type": "code",
   "execution_count": 34,
   "metadata": {
    "collapsed": false
   },
   "outputs": [
    {
     "data": {
      "text/plain": [
       "['./DiplomaDataPerson_Y_test.joblib.pkl']"
      ]
     },
     "execution_count": 34,
     "metadata": {},
     "output_type": "execute_result"
    }
   ],
   "source": [
    "filename = './DiplomaDataPerson_Y_test.joblib.pkl'\n",
    "joblib.dump(Y_, filename, compress=3)"
   ]
  },
  {
   "cell_type": "code",
   "execution_count": 35,
   "metadata": {
    "collapsed": true
   },
   "outputs": [],
   "source": [
    "X_int_test=[]\n",
    "for x in X_test:\n",
    "    X_int_test.append([0]*len(x)) \n",
    "for i, x in enumerate(X_test):\n",
    "    for j, x_j in enumerate(x):\n",
    "        X_int_test[i][j]=feature_dict[j][x_j]"
   ]
  },
  {
   "cell_type": "code",
   "execution_count": 36,
   "metadata": {
    "collapsed": false
   },
   "outputs": [
    {
     "data": {
      "text/plain": [
       "['./DiplomaDataPerson_X_int_conll.joblib.pkl']"
      ]
     },
     "execution_count": 36,
     "metadata": {},
     "output_type": "execute_result"
    }
   ],
   "source": [
    "filename = './DiplomaDataPerson_X_int_conll.joblib.pkl'\n",
    "joblib.dump(X_int_test, filename, compress=3)"
   ]
  },
  {
   "cell_type": "code",
   "execution_count": 37,
   "metadata": {
    "collapsed": false
   },
   "outputs": [
    {
     "data": {
      "text/plain": [
       "['./DiplomaDataPerson_Y_conll.joblib.pkl']"
      ]
     },
     "execution_count": 37,
     "metadata": {},
     "output_type": "execute_result"
    }
   ],
   "source": [
    "filename = './DiplomaDataPerson_Y_conll.joblib.pkl'\n",
    "joblib.dump(Y_test, filename, compress=3)"
   ]
  },
  {
   "cell_type": "code",
   "execution_count": 38,
   "metadata": {
    "collapsed": true
   },
   "outputs": [],
   "source": [
    "X_int_wg=[]\n",
    "for x in X_wg:\n",
    "    X_int_wg.append([0]*len(x)) \n",
    "for i, x in enumerate(X_wg):\n",
    "    for j, x_j in enumerate(x):\n",
    "        X_int_wg[i][j]=feature_dict[j][x_j]"
   ]
  },
  {
   "cell_type": "code",
   "execution_count": 39,
   "metadata": {
    "collapsed": false
   },
   "outputs": [
    {
     "data": {
      "text/plain": [
       "['./DiplomaDataPerson_X_int_wg.joblib.pkl']"
      ]
     },
     "execution_count": 39,
     "metadata": {},
     "output_type": "execute_result"
    }
   ],
   "source": [
    "filename = './DiplomaDataPerson_X_int_wg.joblib.pkl'\n",
    "joblib.dump(X_int_wg, filename, compress=3)"
   ]
  },
  {
   "cell_type": "code",
   "execution_count": 40,
   "metadata": {
    "collapsed": false
   },
   "outputs": [
    {
     "data": {
      "text/plain": [
       "['./DiplomaDataPerson_Y_wg.joblib.pkl']"
      ]
     },
     "execution_count": 40,
     "metadata": {},
     "output_type": "execute_result"
    }
   ],
   "source": [
    "filename = './DiplomaDataPerson_Y_wg.joblib.pkl'\n",
    "joblib.dump(Y_wg, filename, compress=3)"
   ]
  },
  {
   "cell_type": "code",
   "execution_count": 41,
   "metadata": {
    "collapsed": false
   },
   "outputs": [],
   "source": [
    "from sklearn.preprocessing import OneHotEncoder\n",
    "enc = OneHotEncoder()\n"
   ]
  },
  {
   "cell_type": "code",
   "execution_count": 42,
   "metadata": {
    "collapsed": false
   },
   "outputs": [
    {
     "name": "stdout",
     "output_type": "stream",
     "text": [
      "607964 9872 286095 6818\n"
     ]
    }
   ],
   "source": [
    "X_gl = X_int+X_int_test+X__int+X_int_wg\n",
    "print len(X_int), len(X_int_test), len(X__int), len(X_int_wg)\n",
    "for i, x in enumerate(X_int_test):\n",
    "    if len(x)!=27:\n",
    "        print i, len(x)"
   ]
  },
  {
   "cell_type": "code",
   "execution_count": 43,
   "metadata": {
    "collapsed": false
   },
   "outputs": [
    {
     "data": {
      "text/plain": [
       "['./DiplomaDataPerson_enc.joblib.pkl']"
      ]
     },
     "execution_count": 43,
     "metadata": {},
     "output_type": "execute_result"
    }
   ],
   "source": [
    "enc.fit_transform(X_gl)\n",
    "filename = './DiplomaDataPerson_enc.joblib.pkl'\n",
    "joblib.dump(enc, filename, compress=3)"
   ]
  },
  {
   "cell_type": "code",
   "execution_count": 7,
   "metadata": {
    "collapsed": true
   },
   "outputs": [],
   "source": [
    "X_int = joblib.load('./DiplomaDataPerson_X_int.joblib.pkl')\n",
    "X__int = joblib.load('./DiplomaDataPerson_X_int_test.joblib.pkl')\n",
    "X_test_int = joblib.load('./DiplomaDataPerson_X_int_conll.joblib.pkl')\n",
    "enc = joblib.load('./DiplomaDataPerson_enc.joblib.pkl')\n",
    "X_int_wg = joblib.load('./DiplomaDataPerson_X_int_wg.joblib.pkl')\n",
    "Y= joblib.load('./DiplomaDataPerson_Y.joblib.pkl')\n",
    "Y_ = joblib.load('./DiplomaDataPerson_Y_test.joblib.pkl')\n",
    "Y_test = joblib.load('./DiplomaDataPerson_Y_conll.joblib.pkl')\n",
    "Y_wg = joblib.load('./DiplomaDataPerson_Y_wg.joblib.pkl')"
   ]
  },
  {
   "cell_type": "code",
   "execution_count": null,
   "metadata": {
    "collapsed": false
   },
   "outputs": [],
   "source": [
    "import sklearn.ensemble  \n",
    "RFs = []\n",
    "i = 100000\n",
    "while (i < len(X_int)): \n",
    "    RF = sklearn.ensemble.RandomForestClassifier(n_estimators=200, max_depth=30, n_jobs=-1)\n",
    "    X_new = RF.fit_transform(X_sparse_matrix[:i], Y[:i])\n",
    "    RFs.append(RF)\n",
    "    i+=20000"
   ]
  },
  {
   "cell_type": "code",
   "execution_count": 9,
   "metadata": {
    "collapsed": false
   },
   "outputs": [],
   "source": [
    "import sklearn.ensemble  \n",
    "RF = sklearn.ensemble.RandomForestClassifier(n_estimators=500, max_depth=10, n_jobs=-1)"
   ]
  },
  {
   "cell_type": "code",
   "execution_count": 30,
   "metadata": {
    "collapsed": false
   },
   "outputs": [
    {
     "name": "stdout",
     "output_type": "stream",
     "text": [
      "163333\n"
     ]
    }
   ],
   "source": [
    "count = 0\n",
    "indexes=[]\n",
    "for j, i in enumerate(Y):\n",
    "    if i=='Person':\n",
    "        count +=1\n",
    "        indexes.append(j)\n",
    "    elif random.uniform(0, 1) > 0.4:\n",
    "        indexes.append(j)\n",
    "print count"
   ]
  },
  {
   "cell_type": "code",
   "execution_count": 39,
   "metadata": {
    "collapsed": false
   },
   "outputs": [
    {
     "name": "stdout",
     "output_type": "stream",
     "text": [
      "430171\n"
     ]
    }
   ],
   "source": [
    "X_train_data=[]\n",
    "Y_train_data=[]\n",
    "for i in indexes:\n",
    "    X_train_data.append(X_int[i])\n",
    "    y='No'\n",
    "    if Y[i]=='Person':\n",
    "        y = 'Person'\n",
    "    Y_train_data.append(Y[i])\n",
    "print len(Y_train_data) \n"
   ]
  },
  {
   "cell_type": "code",
   "execution_count": 40,
   "metadata": {
    "collapsed": false
   },
   "outputs": [
    {
     "name": "stderr",
     "output_type": "stream",
     "text": [
      "/home/daria/anaconda/lib/python2.7/site-packages/sklearn/utils/__init__.py:93: DeprecationWarning: Function transform is deprecated; Support to use estimators as feature selectors will be removed in version 0.19. Use SelectFromModel instead.\n",
      "  warnings.warn(msg, category=DeprecationWarning)\n"
     ]
    },
    {
     "data": {
      "text/plain": [
       "<430171x3563 sparse matrix of type '<type 'numpy.float64'>'\n",
       "\twith 9898256 stored elements in Compressed Sparse Column format>"
      ]
     },
     "execution_count": 40,
     "metadata": {},
     "output_type": "execute_result"
    }
   ],
   "source": [
    "RF.fit_transform(enc.transform(X_train_data), Y_train_data)"
   ]
  },
  {
   "cell_type": "code",
   "execution_count": null,
   "metadata": {
    "collapsed": false
   },
   "outputs": [],
   "source": [
    "filename = './DiplomaDataPerson_RF500_10_342098.joblib.pkl'\n",
    "joblib.dump(RF, filename, compress=3)"
   ]
  },
  {
   "cell_type": "code",
   "execution_count": null,
   "metadata": {
    "collapsed": false
   },
   "outputs": [],
   "source": [
    "filename = './DiplomaDataPerson_RFs100_30.joblib.pkl'\n",
    "RFs = joblib.load(filename)"
   ]
  },
  {
   "cell_type": "code",
   "execution_count": null,
   "metadata": {
    "collapsed": false
   },
   "outputs": [],
   "source": [
    "random.shuffle(X__int[46849:])\n",
    "for i, rf in enumerate(RFs):\n",
    "    if (i > 13):\n",
    "        break\n",
    "    print 100000 + i*20000\n",
    "    Y_test_results = rf.predict_proba(enc.transform(X_test_int[:10000]))\n",
    "    metrics(Y_test_results, 100000 + i*20000)"
   ]
  },
  {
   "cell_type": "code",
   "execution_count": null,
   "metadata": {
    "collapsed": false
   },
   "outputs": [],
   "source": [
    "filename = './DiplomaDataPerson_RF100_200000_30.joblib.pkl'\n",
    "joblib.dump(RF, filename, compress=3)"
   ]
  },
  {
   "cell_type": "code",
   "execution_count": 53,
   "metadata": {
    "collapsed": false
   },
   "outputs": [
    {
     "name": "stdout",
     "output_type": "stream",
     "text": [
      "Ajax Organisation 0.402441619715\n",
      "Australia PopulatedPlace 0.402541882424\n",
      "Pakistan PopulatedPlace 0.408062552953\n",
      "Mongolia PopulatedPlace 0.424238594288\n",
      "Russia PopulatedPlace 0.401216104494\n",
      "Moscow PopulatedPlace 0.400788270514\n",
      "Network No 0.400208238364\n",
      "Saturday No 0.403954321251\n",
      "Thursday No 0.412072707855\n",
      "Week No 0.403005984309\n",
      "Zywiec Organisation 0.408346130738\n",
      "Europ PopulatedPlace 0.413731312209\n",
      "Poland PopulatedPlace 0.409738519532\n",
      "Zywiec Organisation 0.40599552363\n",
      "Heineken Organisation 0.402499262958\n",
      "Australia PopulatedPlace 0.403041462434\n",
      "Zywiec Organisation 0.402401216117\n",
      "Zywiec Organisation 0.41158084953\n",
      "Saturday No 0.403954321251\n",
      "Amateur No 0.402095470636\n",
      "Women No 0.403289433625\n",
      "Challeng No 0.406982546287\n",
      "Midfield No 0.408105945551\n",
      "Squad No 0.404706894258\n",
      "Thursday No 0.405008496858\n",
      "Seller No 0.406070287242\n",
      "Australia PopulatedPlace 0.402985151991\n",
      "Australia PopulatedPlace 0.400200774569\n",
      "America PopulatedPlace 0.401297581855\n",
      "Brazil PopulatedPlace 0.407647744966\n",
      "Brazil PopulatedPlace 0.405004581683\n",
      "Brazil PopulatedPlace 0.425910134677\n",
      "Thursday No 0.412072707855\n",
      "Trade No 0.407740842862\n",
      "Carcass No 0.405177922681\n",
      "Holstein No 0.41049615239\n",
      "Confirm No 0.400369091814\n",
      "Japan PopulatedPlace 0.423419204548\n",
      "Sumitomo Organisation 0.412544487644\n",
      "Japan PopulatedPlace 0.400651779202\n",
      "Japan PopulatedPlace 0.403871461852\n",
      "Senior No 0.406064760756\n",
      "China PopulatedPlace 0.412739482773\n",
      "Defend No 0.409582947639\n",
      "Japan PopulatedPlace 0.404686277204\n",
      "Japan PopulatedPlace 0.402323813793\n",
      "Let No 0.406251912404\n",
      "Let No 0.427246818303\n",
      "Loui PopulatedPlace 0.40450745859\n",
      "Colombia PopulatedPlace 0.410645856056\n",
      "Brazil PopulatedPlace 0.414395926095\n",
      "Saturday No 0.409538929732\n",
      "Itali PopulatedPlace 0.403208596192\n",
      "Led No 0.405763262658\n",
      "Swede No 0.404342873047\n",
      "Cagliari Organisation 0.404466300707\n",
      "Bottom No 0.402557664827\n",
      "Fiorentina Organisation 0.40556159199\n",
      "Lazio Organisation 0.404466300707\n",
      "Lazio Organisation 0.404407339919\n",
      "Argentin No 0.405337025553\n",
      "Norwegian No 0.401744418087\n",
      "Good No 0.402948273152\n",
      "Napoli Organisation 0.404466300707\n",
      "Verona Organisation 0.428898672886\n",
      "Parma Organisation 0.404166653321\n",
      "Parma Organisation 0.425563861884\n",
      "Atalanta Organisation 0.409373428823\n",
      "Sampdoria Organisation 0.401842260292\n",
      "Vicenza Organisation 0.404466300707\n",
      "Full No 0.408062357661\n",
      "Uruguayan No 0.406615528684\n",
      "Inter Organisation 0.406438893569\n",
      "India PopulatedPlace 0.401129563456\n",
      "Australia PopulatedPlace 0.40071937328\n",
      "Did No 0.406086560968\n",
      "Result No 0.404706894258\n",
      "Piu Organisation 0.402279300335\n",
      "Let PopulatedPlace 0.427246818303\n",
      "Tampico PopulatedPlace 0.406263804106\n",
      "Singapor PopulatedPlace 0.405312809044\n",
      "Singapor PopulatedPlace 0.410778388047\n",
      "Singapor PopulatedPlace 0.40001738462\n",
      "Singapor PopulatedPlace 0.404267440495\n",
      "Singapor PopulatedPlace 0.40296371969\n",
      "Singapor PopulatedPlace 0.407687113272\n",
      "Turkey PopulatedPlace 0.404060756873\n",
      "Turkey PopulatedPlace 0.408679959065\n",
      "Damascu PopulatedPlace 0.405318568822\n",
      "Council Organisation 0.40259558741\n",
      "Guilin PopulatedPlace 0.40841732795\n",
      "China PopulatedPlace 0.401872176253\n",
      "Saturday No 0.404991620911\n",
      "Women No 0.403289433625\n",
      "Saturday No 0.409538929732\n",
      "Saturday No 0.409538929732\n",
      "Liverpool Organisation 0.409354114253\n",
      "Wimbledon Organisation 0.409780093001\n",
      "Saturday No 0.403954321251\n",
      "Saturday No 0.409538929732\n",
      "Saturday No 0.409538929732\n",
      "Friday No 0.409538929732\n",
      "Slaughter No 0.404289252389\n",
      "Slaughter No 0.406693836773\n",
      "Pen No 0.405511011684\n",
      "Xinhua Organisation 0.410201075873\n",
      "Wenchang PopulatedPlace 0.421232367417\n",
      "Europ PopulatedPlace 0.400532236665\n",
      "Mexican No 0.400488293506\n",
      "Simec Organisation 0.406320018974\n",
      "Sidek Organisation 0.410653329668\n",
      "Saturday No 0.403954321251\n",
      "Thursday No 0.409538929732\n",
      "Russia PopulatedPlace 0.401055225084\n",
      "Norilsk Organisation 0.407810382935\n",
      "Norilsk Organisation 0.402897913032\n",
      "Norilsk Organisation 0.40603005898\n",
      "Norilsk Organisation 0.427246818303\n",
      "Norilsk Organisation 0.406179518072\n",
      "Norilsk Organisation 0.412221711681\n",
      "Est No 0.40503751019\n",
      "Thursday No 0.409538929732\n",
      "Delphi Organisation 0.40912326328\n",
      "Ahold Organisation 0.407300762189\n",
      "Ahold Organisation 0.408807714255\n",
      "Polic No 0.410026275564\n",
      "Ga No 0.403259331499\n",
      "Thursday No 0.409682617094\n",
      "Fuel No 0.410610353692\n",
      "Low No 0.405047554212\n",
      "Polic No 0.410026275564\n",
      "Manchest Organisation 0.41174794136\n",
      "Result No 0.404706894258\n",
      "Loui PopulatedPlace 0.400581830438\n",
      "Loui PopulatedPlace 0.400581830438\n",
      "Loui PopulatedPlace 0.400207202034\n",
      "Honda Organisation 0.413542673004\n",
      "Re Organisation 0.410785304993\n",
      "Munich Organisation 0.406556269797\n",
      "Re Organisation 0.413301048938\n",
      "Chile PopulatedPlace 0.405318568822\n",
      "Interfax Organisation 0.402948273152\n",
      "Interfax Organisation 0.406320018974\n",
      "Washington PopulatedPlace 0.409257919599\n",
      "Itali PopulatedPlace 0.403208596192\n",
      "Jakarta PopulatedPlace 0.405780513782\n",
      "Jakarta PopulatedPlace 0.406179518072\n",
      "Victoria PopulatedPlace 0.411073637748\n",
      "Victoria PopulatedPlace 0.402519633452\n",
      "Hobart PopulatedPlace 0.40903070725\n",
      "Court Organisation 0.420172492732\n",
      "Monday No 0.405258042056\n",
      "Hyundai Organisation 0.404342873047\n",
      "Monday No 0.406177439414\n",
      "Indonesia PopulatedPlace 0.404772445427\n",
      "Bank No 0.413038379614\n",
      "First No 0.403468999152\n",
      "Barrick Organisation 0.404498421933\n",
      "Arasu PopulatedPlace 0.406681259457\n",
      "Barrick Organisation 0.401854198037\n",
      "Busang PopulatedPlace 0.416279084406\n",
      "Barrick Organisation 0.401854198037\n",
      "Busang Organisation 0.415769463661\n",
      "Barrick Organisation 0.414599115482\n",
      "Barrick Organisation 0.402769784333\n",
      "Canada PopulatedPlace 0.420634586973\n",
      "Madrid Organisation 0.406223044143\n",
      "Barcelona Organisation 0.409934753214\n",
      "Haitham Organisation 0.410139122803\n",
      "Israel PopulatedPlace 0.4140138809\n",
      "Israel PopulatedPlace 0.412804559739\n",
      "Lebanon PopulatedPlace 0.408292803463\n",
      "Israel PopulatedPlace 0.412097919054\n",
      "Israel PopulatedPlace 0.415204504167\n",
      "Israel PopulatedPlace 0.418683102551\n",
      "Polic No 0.410026275564\n",
      "Slaughter No 0.404289252389\n",
      "Slaughter No 0.406693836773\n",
      "Slaughter No 0.406693836773\n",
      "Confirm No 0.400369091814\n",
      "Saturday No 0.404991620911\n",
      "Foreign No 0.403730089343\n",
      "Switzerland PopulatedPlace 0.400273068059\n",
      "Senat No 0.404342873047\n",
      "Court No 0.40422147364\n",
      "Manitoba Organisation 0.40105032837\n",
      "Council Organisation 0.401392713244\n",
      "White PopulatedPlace 0.400875145221\n",
      "Australia PopulatedPlace 0.402716392738\n",
      "Challeng No 0.406982546287\n",
      "Servic Organisation 0.408064740152\n",
      "Januari No 0.408501853559\n",
      "Feb No 0.413923353877\n",
      "Thursday No 0.404991620911\n",
      "Februari No 0.410964093495\n",
      "Milan Organisation 0.40838635145\n",
      "Polic No 0.411074460355\n",
      "Switzerland Organisation 0.400906786511\n",
      "Germani Organisation 0.406533001034\n",
      "Austria Organisation 0.403365170847\n",
      "Britain Organisation 0.405000073576\n",
      "Cuba PopulatedPlace 0.406973259598\n",
      "Saturday No 0.400759590156\n",
      "Prime No 0.410294190941\n",
      "Defend No 0.409582947639\n",
      "Syria PopulatedPlace 0.415858547911\n",
      "Japan PopulatedPlace 0.404686277204\n",
      "Japan PopulatedPlace 0.412837260875\n",
      "Japan PopulatedPlace 0.402623368131\n",
      "Syria PopulatedPlace 0.402082853842\n",
      "Yakoma No 0.413210864799\n",
      "Algeria PopulatedPlace 0.404097576878\n",
      "Indonesia PopulatedPlace 0.413048836072\n",
      "Nigeria PopulatedPlace 0.413048836072\n",
      "Arabia PopulatedPlace 0.405569468853\n",
      "Venezuela PopulatedPlace 0.415268483749\n",
      "Mexico PopulatedPlace 0.407914088559\n",
      "Japan PopulatedPlace 0.400605672327\n",
      "Liberian No 0.404089350301\n",
      "Portug PopulatedPlace 0.400619114779\n",
      "Squad No 0.404706894258\n",
      "Rain No 0.407799631792\n",
      "Friday No 0.414496466825\n",
      "Britain PopulatedPlace 0.405857682444\n",
      "Trade Organisation 0.404787060103\n",
      "Britain PopulatedPlace 0.425654970337\n",
      "American Organisation 0.415353681384\n",
      "Squad No 0.404706894258\n",
      "Lewi Organisation 0.423138952599\n",
      "Saturday No 0.409538929732\n",
      "Syria PopulatedPlace 0.402082853842\n",
      "Prison No 0.406739029113\n",
      "Court Organisation 0.417136569359\n",
      "Prison No 0.406739029113\n",
      "Court Organisation 0.402798365597\n",
      "Mirren Organisation 0.401065593249\n",
      "Queen Organisation 0.404599821906\n",
      "Wall PopulatedPlace 0.411333987168\n",
      "Newmont Organisation 0.411330433647\n",
      "Newmont Organisation 0.40542874094\n",
      "Indonesia PopulatedPlace 0.405022965034\n",
      "Fe Organisation 0.408338003907\n",
      "Homestak Organisation 0.407319891852\n",
      "Santa Organisation 0.406664031395\n",
      "Santa Organisation 0.406664031395\n",
      "Newmont Organisation 0.412789418216\n",
      "Newmonth Organisation 0.405137100461\n",
      "Newmont Organisation 0.405720678763\n",
      "Fe Organisation 0.408338003907\n",
      "Kinshasa PopulatedPlace 0.402220958224\n",
      "Do No 0.405047554212\n",
      "Kinshasa PopulatedPlace 0.400912428806\n",
      "Polic No 0.402834812827\n",
      "Luxembourg PopulatedPlace 0.401709755955\n",
      "Rio PopulatedPlace 0.403475670618\n",
      "Men No 0.406737383792\n",
      "Saturday No 0.404991620911\n",
      "Men No 0.406737383792\n",
      "Women No 0.408688837571\n",
      "Australia PopulatedPlace 0.405224738338\n",
      "Pakistan PopulatedPlace 0.408062552953\n",
      "Tallinna Organisation 0.407268594187\n",
      "Pank Organisation 0.402418851629\n",
      "Pari Organisation 0.410334897\n",
      "Loui PopulatedPlace 0.406699297253\n",
      "Surgeon No 0.405919444347\n",
      "Spain PopulatedPlace 0.40598588288\n",
      "Herri Organisation 0.404342873047\n",
      "Polic No 0.405194635884\n",
      "Spain PopulatedPlace 0.404682162075\n",
      "Wednesday No 0.403410959777\n",
      "Vancouv Organisation 0.402335192562\n",
      "Saturday No 0.407038366011\n",
      "Franc PopulatedPlace 0.410080536638\n",
      "Canada PopulatedPlace 0.420634586973\n",
      "Australia PopulatedPlace 0.410580411655\n",
      "Japan PopulatedPlace 0.403484947468\n",
      "Franc PopulatedPlace 0.403882076399\n",
      "Salomon Organisation 0.429701209991\n",
      "Indianapoli PopulatedPlace 0.408933636161\n",
      "Philadelphia PopulatedPlace 0.402425165481\n",
      "Philadelphia Organisation 0.407504032462\n",
      "Philadelphia PopulatedPlace 0.403092654435\n",
      "Israel PopulatedPlace 0.412097919054\n",
      "Isra No 0.401647250488\n",
      "Israel PopulatedPlace 0.434032090427\n",
      "Israel PopulatedPlace 0.40005191324\n",
      "0.204976295222\n",
      "0.643920515643\n",
      "0.310964594227\n",
      "287 2013 519 7053\n"
     ]
    }
   ],
   "source": [
    "Y_test_results = RF.predict_proba(enc.transform(X_test_int))\n",
    "Y_test_results_label = RF.predict(enc.transform(X_test_int))\n",
    "# print Y_test_results [10:20]\n",
    "# print Y_test_results_label[10:20] \n",
    "# print Y_test[10:20]\n",
    "# print X_test[7][1]\n",
    "metrics(Y_test_results, 200000)"
   ]
  },
  {
   "cell_type": "code",
   "execution_count": 57,
   "metadata": {
    "collapsed": false
   },
   "outputs": [
    {
     "name": "stdout",
     "output_type": "stream",
     "text": [
      "PopulatedPlace\n",
      "['0', 'Franc', 'nce', 'ce', 'False', 'True', 'False', 'Xx', 'NNP', '1', 'manag', 'ged', 'ed', 'False', 'False', 'False', 'x', 'VBD', '-1', '.', '.', '.', 'False', 'False', 'False', '.', '.']\n"
     ]
    }
   ],
   "source": [
    "print Y_test[9584]\n",
    "print X_test [9584]"
   ]
  },
  {
   "cell_type": "code",
   "execution_count": 14,
   "metadata": {
    "collapsed": true
   },
   "outputs": [],
   "source": [
    "recall_set = dict()\n",
    "presision_set = dict()\n",
    "F_measure_set = dict()"
   ]
  },
  {
   "cell_type": "code",
   "execution_count": 52,
   "metadata": {
    "collapsed": true
   },
   "outputs": [],
   "source": [
    "def metrics(Y_test_result, length):\n",
    "    f_n = 0\n",
    "    f_p = 0\n",
    "    t_n=0\n",
    "    t_p=0\n",
    "    for i, y in enumerate(Y_test_result):\n",
    "        y_str = 'No'\n",
    "        y_t= Y_test[i]\n",
    "        if y[0]<0.5 and y[2]>0.4:\n",
    "            y_str = 'Person'\n",
    "        if y_str == 'Person' and y_t==\"Person\":\n",
    "            t_p+=1\n",
    "        elif y_str == 'Person' and y_t!=\"Person\":\n",
    "            f_p+=1\n",
    "            print X_test[i][1], Y_test[i], y[2]\n",
    "            #print \n",
    "        elif y_str != 'Person' and y_t!=\"Person\":\n",
    "            t_n+=1\n",
    "        else:\n",
    "            #print Y_test_results[i]\n",
    "            f_n+=1\n",
    "    recall = t_p*1./(t_p+f_n+0.0001)\n",
    "    presision = t_p*1./(t_p+f_p+0.0001)\n",
    "    print recall\n",
    "    print presision\n",
    "    F_measure = 2*presision*recall/(presision+recall+0.0000001)\n",
    "    print F_measure \n",
    "    print f_p, f_n, t_p, t_n  \n",
    "    recall_set[length] = recall\n",
    "    presision_set[length] = presision\n",
    "    F_measure_set[length] = F_measure"
   ]
  },
  {
   "cell_type": "code",
   "execution_count": null,
   "metadata": {
    "collapsed": false
   },
   "outputs": [],
   "source": []
  },
  {
   "cell_type": "code",
   "execution_count": null,
   "metadata": {
    "collapsed": true
   },
   "outputs": [],
   "source": [
    "from matplotlib import rc\n",
    " \n",
    "font = {'family': 'Droid Sans',\n",
    "        'weight': 'normal'}\n",
    "rc('font', **font)"
   ]
  },
  {
   "cell_type": "code",
   "execution_count": null,
   "metadata": {
    "collapsed": false
   },
   "outputs": [],
   "source": [
    "# -*- coding: utf-8 -*-\n",
    "# Преамбула\n",
    "%matplotlib inline\n",
    "\n",
    "import os\n",
    "import matplotlib.pyplot as plt\n",
    "\n",
    "def save(name=''):\n",
    "    plt.savefig('./pictures/'+ name, fmt='png')\n",
    "    #plt.close()\n",
    "\n",
    "import numpy as np\n",
    "l=['Recall' , 'Presision' , 'F-measure']\n",
    "\n",
    "# Пример функции с объединением в кортеж *args\n",
    "def f_sums(*args):\n",
    "\n",
    "    list1 = []\n",
    "    for arg in args:\n",
    "        a = 0\n",
    "        for i in arg:\n",
    "            a += i\n",
    "        list1.append(a)\n",
    "\n",
    "    return list1\n",
    "\n",
    "\n",
    "# Пример функции с объединением и в кортеж args и в словарь **kwargs\n",
    "def f_plot(*args, **kwargs):\n",
    "\n",
    "    xlist = []\n",
    "    ylist = []\n",
    "    for i, arg in enumerate(args):\n",
    "        if(i % 2 == 0):\n",
    "            xlist.append(arg)\n",
    "        else:\n",
    "            ylist.append(arg) \n",
    "    \n",
    "    colors = kwargs.pop('colors', 'k')\n",
    "    linewidth = kwargs.pop('linewidth', 1.)\n",
    "    \n",
    "    fig = plt.figure()\n",
    "    ax = fig.add_subplot(111)\n",
    "    i = 0\n",
    "    for x, y, color in zip(xlist, ylist, colors):\n",
    "        i += 1\n",
    "        ax.plot(x, y, color=color, linewidth=linewidth, label=l[i-1])\n",
    "    \n",
    "    ax.grid(True)\n",
    "    #ax.legend()\n",
    "    plt.legend(loc=2,prop={'size':8})\n",
    "    #plt.title(u'Зависимость метрик качества\\n от доли negative-примеров в обучающей выборке\\nВ тестовой выборке соотношение классов 1:1')\n",
    "    plt.title(u'Зависимость метрик качества\\nот доли negative-примеров в обучающей выборке\\nВ тестовой выборке соотношение классов 1:1\\n')\n",
    "    plt.xlabel(u'Доля negative-примеров в X_train\\n (RandomForest, n_estimators=100, max_depth=30, len(X_test_rules)=10000)')\n",
    "    #save(u'1')\n",
    "    \n",
    "\n",
    "x = []\n",
    "y1 =[]\n",
    "y2 =[]\n",
    "y3 =[]\n",
    "\n",
    "keys = F_measure_set.keys()\n",
    "keys.sort()\n",
    "for x_ in keys[:12]:\n",
    "    print x_\n",
    "    x.append((x_-size)*1./x_)\n",
    "    y1.append(recall_set[x_])\n",
    "    y2.append(presision_set[x_])\n",
    "    y3.append(F_measure_set[x_])\n",
    "# filename = './DiplomaDataPerson_GrX10T.pkl'\n",
    "# joblib.dump(x, filename,compress=3)\n",
    "# filename = './DiplomaDataPerson_GrRec10T.pkl'\n",
    "# joblib.dump(y1, filename,compress=3)\n",
    "# filename = './DiplomaDataPerson_GrPre10T.pkl'\n",
    "# joblib.dump(y2, filename,compress=3)\n",
    "# filename = './DiplomaDataPerson_GrF10T.pkl'\n",
    "# joblib.dump(y3, filename,compress=3)\n",
    "    \n",
    "f_plot(x , y1, x, y2, x , y3, colors=['blue', 'green', 'red'], linewidth=2.)"
   ]
  },
  {
   "cell_type": "code",
   "execution_count": null,
   "metadata": {
    "collapsed": true
   },
   "outputs": [],
   "source": []
  },
  {
   "cell_type": "code",
   "execution_count": 27,
   "metadata": {
    "collapsed": false
   },
   "outputs": [
    {
     "name": "stdout",
     "output_type": "stream",
     "text": [
      "<open file 'stat_word', mode 'w' at 0x7f8a1ce10e40>\n"
     ]
    }
   ],
   "source": [
    "\n",
    "word_set = set(Words)\n",
    "countN=0\n",
    "countP=0\n",
    "word_dict_N= dict()\n",
    "word_dict_P= dict()\n",
    "word_dict_G= dict()\n",
    "word_dict_O= dict()\n",
    "f = open('stat_word', 'w')\n",
    "print f\n",
    "f.write('Word\\tNo\\tPerson\\t\\Geo\\tOrg\\n')\n",
    "for example in word_set:\n",
    "    word_dict_N[example]=0\n",
    "    word_dict_P[example]=0\n",
    "    word_dict_G[example]=0\n",
    "    word_dict_O[example]=0\n",
    "\n",
    "for i, word in enumerate(Words):\n",
    "    if(Y[i]=='Person'):\n",
    "        word_dict_P[word]+=1\n",
    "    elif (Y[i]=='Organisation'):\n",
    "        word_dict_O[word]+=1\n",
    "    elif (Y[i]=='PopulatedPlace'):\n",
    "        word_dict_G[word]+=1\n",
    "    elif (Y[i]=='No'):\n",
    "        word_dict_N[word]+=1\n",
    "for word in word_set:\n",
    "    if (word_dict_N[word]+word_dict_P[word]+word_dict_G[word]+word_dict_O[word] > 50):   \n",
    "        f.write(word + '\\t' + str(word_dict_N[word])+'\\t'+str(word_dict_P[word])+'\\t'+str(word_dict_G[word])\n",
    "                   +'\\t'+str(word_dict_O[word])+'\\n')\n",
    "#     if (word_dict_N[word]>50 and word_dict_P[word]>50):\n",
    "#         print (word + '\\t' + str(word_dict_N[word])+'\\t'+str(word_dict_P[word])+'\\t'+str(word_dict_G[word])\n",
    "#                +'\\t'+str(word_dict_O[word])+'\\n')\n",
    "f.close()"
   ]
  },
  {
   "cell_type": "code",
   "execution_count": null,
   "metadata": {
    "collapsed": true
   },
   "outputs": [],
   "source": []
  }
 ],
 "metadata": {
  "kernelspec": {
   "display_name": "Python 2",
   "language": "python",
   "name": "python2"
  },
  "language_info": {
   "codemirror_mode": {
    "name": "ipython",
    "version": 2
   },
   "file_extension": ".py",
   "mimetype": "text/x-python",
   "name": "python",
   "nbconvert_exporter": "python",
   "pygments_lexer": "ipython2",
   "version": "2.7.10"
  }
 },
 "nbformat": 4,
 "nbformat_minor": 0
}
